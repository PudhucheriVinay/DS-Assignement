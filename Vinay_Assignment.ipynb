{
 "cells": [
  {
   "cell_type": "code",
   "execution_count": 42,
   "id": "03e480f6-b72d-487d-acd8-f5ace19ad8a8",
   "metadata": {},
   "outputs": [
    {
     "name": "stdout",
     "output_type": "stream",
     "text": [
      "Original array: [0.65453376 0.74071655 0.09429461 0.64518111 0.99716733 0.68780413\n",
      " 0.98179011]\n",
      "Normalized array: [0.62050733 0.71596131 0.         0.61014857 1.         0.6573568\n",
      " 0.98296856]\n"
     ]
    }
   ],
   "source": [
    "### Numpy \n",
    "\n",
    "#1 Create a NumPy array of random numbers and normalize the data using min-max scaling.\n",
    "\n",
    "import numpy as np\n",
    "\n",
    "arr = np.random.rand(7)\n",
    "print(\"Original array:\", arr)\n",
    "arr.tolist()\n",
    "normalized_arr = (arr - arr.min()) / (arr.max() - arr.min())\n",
    "print(\"Normalized array:\", normalized_arr)"
   ]
  },
  {
   "cell_type": "code",
   "execution_count": 20,
   "id": "19a89f65-df06-42a6-bc34-3529f599b260",
   "metadata": {},
   "outputs": [
    {
     "name": "stdout",
     "output_type": "stream",
     "text": [
      "Original matrix:\n",
      " [[ 8  5  9  5  9]\n",
      " [10 10  2  4  8]\n",
      " [ 9  9  3  7  3]\n",
      " [ 7 10  3  9  6]\n",
      " [ 5  2  6 10  7]]\n",
      "Modified matrix:\n",
      " [[8 5 9 5 9]\n",
      " [0 0 2 4 8]\n",
      " [9 9 3 7 3]\n",
      " [7 0 3 9 6]\n",
      " [5 2 6 0 7]]\n"
     ]
    }
   ],
   "source": [
    "#2 Generate a 5x5 matrix with random integers and replace all occurrences of a specific value with another\n",
    "\n",
    "matrix = np.random.randint(1, 11, size=(5, 5))\n",
    "print(\"Original matrix:\\n\", matrix)\n",
    "\n",
    "matrix[matrix == 10] = 0\n",
    "print(\"Modified matrix:\\n\", matrix)"
   ]
  },
  {
   "cell_type": "code",
   "execution_count": 22,
   "id": "41a8d820-6b36-4ef9-a800-6e391ddccd2e",
   "metadata": {},
   "outputs": [
    {
     "name": "stdout",
     "output_type": "stream",
     "text": [
      "Addition: [4 6]\n",
      "Subtraction: [-2 -2]\n",
      "Multiplication: [3 8]\n",
      "Division: [0.33333333 0.5       ]\n"
     ]
    }
   ],
   "source": [
    "#3  Create two NumPy arrays and perform element-wise addition, subtraction, multiplication, and division \n",
    "\n",
    "a = np.array([1, 2])\n",
    "b = np.array([3, 4])\n",
    "print(\"Addition:\", a + b)\n",
    "print(\"Subtraction:\", a - b)\n",
    "print(\"Multiplication:\", a * b)\n",
    "print(\"Division:\", a / b)"
   ]
  },
  {
   "cell_type": "code",
   "execution_count": 28,
   "id": "39053439-d696-45ae-8f93-f20ce3e5d69d",
   "metadata": {},
   "outputs": [
    {
     "name": "stdout",
     "output_type": "stream",
     "text": [
      "Solution [x, y]: [1.28571429 0.78571429]\n"
     ]
    },
    {
     "data": {
      "text/plain": [
       "[1.2857142857142858, 0.7857142857142855]"
      ]
     },
     "execution_count": 28,
     "metadata": {},
     "output_type": "execute_result"
    }
   ],
   "source": [
    "#4 Solve the system of linear equations: \\(3x + 4y = 7\\) and \\(5x + 2y = 8\\) using NumPy.\n",
    "\n",
    "A = np.array([[3, 4], [5, 2]]) \n",
    "B = np.array([7, 8])\n",
    "solution = np.linalg.solve(A, B)\n",
    "print(\"Solution [x, y]:\", solution)\n",
    "solution.tolist()"
   ]
  },
  {
   "cell_type": "code",
   "execution_count": 30,
   "id": "65c70168-cffc-4390-9c6d-66b5dc2f7baa",
   "metadata": {},
   "outputs": [
    {
     "name": "stdout",
     "output_type": "stream",
     "text": [
      "Result of broadcasting:\n",
      " [[2 2 2]\n",
      " [5 5 5]\n",
      " [8 8 8]]\n"
     ]
    }
   ],
   "source": [
    "#5  Implement broadcasting to perform an operation between a 3x3 matrix and a 1D array\n",
    "\n",
    "matrix = np.array([[1, 2, 3], [4, 5, 6], [7, 8, 9]])\n",
    "array = np.array([1, 0, -1])\n",
    "result = matrix + array\n",
    "print(\"Result of broadcasting:\\n\", result)"
   ]
  },
  {
   "cell_type": "code",
   "execution_count": 32,
   "id": "46397307-c179-4708-bc0b-0e20cc8efc32",
   "metadata": {},
   "outputs": [
    {
     "name": "stdout",
     "output_type": "stream",
     "text": [
      "3x3 Identity Matrix:\n",
      " [[1. 0. 0.]\n",
      " [0. 1. 0.]\n",
      " [0. 0. 1.]]\n"
     ]
    }
   ],
   "source": [
    "#6 Create a 3x3 identity matrix using NumPy.\n",
    "\n",
    "identity_matrix = np.eye(3)\n",
    "print(\"3x3 Identity Matrix:\\n\", identity_matrix)"
   ]
  },
  {
   "cell_type": "code",
   "execution_count": 34,
   "id": "db1d0eff-56a6-4414-b7a5-1f3d079c987e",
   "metadata": {},
   "outputs": [
    {
     "name": "stdout",
     "output_type": "stream",
     "text": [
      "Matrix Multiplication Result:\n",
      " [[19 22]\n",
      " [43 50]]\n"
     ]
    }
   ],
   "source": [
    "#7 Perform matrix multiplication between two 2D arrays. \n",
    "A = np.array([[1, 2], [3, 4]])\n",
    "B = np.array([[5, 6], [7, 8]])\n",
    "result = np.dot(A, B)\n",
    "print(\"Matrix Multiplication Result:\\n\", result)"
   ]
  },
  {
   "cell_type": "code",
   "execution_count": 36,
   "id": "3564c2cf-4802-4bf2-864a-1ff8b4ce0c86",
   "metadata": {},
   "outputs": [
    {
     "name": "stdout",
     "output_type": "stream",
     "text": [
      "Dot Product: 32\n",
      "Cross Product: [-3  6 -3]\n"
     ]
    }
   ],
   "source": [
    "#8 Calculate the dot product and cross product of two vectors using NumPy. \n",
    "\n",
    "a = np.array([1, 2, 3])\n",
    "b = np.array([4, 5, 6])\n",
    "\n",
    "dot_product = np.dot(a, b)\n",
    "cross_product = np.cross(a, b)\n",
    "\n",
    "print(\"Dot Product:\", dot_product)\n",
    "print(\"Cross Product:\", cross_product)"
   ]
  },
  {
   "cell_type": "code",
   "execution_count": 38,
   "id": "c1115d71-4919-4a56-88c5-b3ecf4b0b584",
   "metadata": {},
   "outputs": [
    {
     "name": "stdout",
     "output_type": "stream",
     "text": [
      "Original Array: [ 5  8  3  7  4  8  9  7  4  1  2  8 10  2  2  6  4 10  6  8]\n",
      "Unique Elements: [ 1  2  3  4  5  6  7  8  9 10]\n"
     ]
    }
   ],
   "source": [
    "#9 Generate a NumPy array of 20 random integers and find the unique elements in the array.\n",
    "\n",
    "arr = np.random.randint(1, 11, size=20)\n",
    "print(\"Original Array:\", arr)\n",
    "unique_elements = np.unique(arr)\n",
    "print(\"Unique Elements:\", unique_elements)"
   ]
  },
  {
   "cell_type": "code",
   "execution_count": 40,
   "id": "cb80a967-3911-4b1c-b5df-afa31a2169a1",
   "metadata": {},
   "outputs": [
    {
     "name": "stdout",
     "output_type": "stream",
     "text": [
      "Inverse:\n",
      " [[-2.   1. ]\n",
      " [ 1.5 -0.5]]\n"
     ]
    }
   ],
   "source": [
    "#10  Implement a function using NumPy that returns the inverse of a given matrix.\n",
    "\n",
    "def inverse_matrix(mat):\n",
    "    try:\n",
    "        inv = np.linalg.inv(mat)\n",
    "        return inv\n",
    "    except np.linalg.LinAlgError:\n",
    "        return \"Matrix is not invertible\"\n",
    "matrix = np.array([[1, 2], [3, 4]])\n",
    "print(\"Inverse:\\n\", inverse_matrix(matrix))"
   ]
  },
  {
   "cell_type": "code",
   "execution_count": 63,
   "id": "dd570d2d-a1c6-4352-8847-800ecd9fc658",
   "metadata": {},
   "outputs": [
    {
     "name": "stdout",
     "output_type": "stream",
     "text": [
      "   Duration          Date  Pulse  Maxpulse  Calories\n",
      "0        60  '2020/12/01'    110       130     409.1\n",
      "1        60  '2020/12/02'    117       145     479.0\n",
      "2        60  '2020/12/03'    103       135     340.0\n",
      "3        45  '2020/12/04'    109       175     282.4\n",
      "4        45  '2020/12/05'    117       148     406.0\n",
      "5        60  '2020/12/06'    102       127     300.0\n",
      "6        60  '2020/12/07'    110       136     374.0\n",
      "7       450  '2020/12/08'    104       134     253.3\n",
      "8        30  '2020/12/09'    109       133     195.1\n",
      "9        60  '2020/12/10'     98       124     269.0\n"
     ]
    }
   ],
   "source": [
    "### Pandas\n",
    "\n",
    "#11 Load a CSV file into a Pandas DataFrame and display the first 10 rows\n",
    "\n",
    "import pandas as pd\n",
    "\n",
    "df = pd.read_csv(r'C:\\Users\\vinay\\Downloads\\data (1).csv')\n",
    "\n",
    "print(df.head(10))"
   ]
  },
  {
   "cell_type": "code",
   "execution_count": 79,
   "id": "e7f0936c-b1da-44bf-b621-8ff8a3d9e483",
   "metadata": {},
   "outputs": [
    {
     "name": "stdout",
     "output_type": "stream",
     "text": [
      "               Temperature    \n",
      "                      mean sum\n",
      "City                          \n",
      "Andhra Pradesh        37.0  37\n",
      "Chennai               36.0  36\n",
      "Goa                   38.0  38\n",
      "Hyderabad             34.0  34\n",
      "Kerla                 35.0  35\n",
      "Mumbai                33.0  33\n"
     ]
    }
   ],
   "source": [
    "#12 Perform groupby operations on a dataset to find the mean and sum of numerical columns based on a categorical column\n",
    "\n",
    "import pandas as pd\n",
    "\n",
    "data = {'City': ['Hyderabad', 'Goa', 'Mumbai', 'Chennai', 'Andhra Pradesh', 'Kerla'],\n",
    "    'Temperature': [34, 38, 33, 36, 37, 35]\n",
    "}\n",
    "df = pd.DataFrame(data)\n",
    "result = df.groupby('City')[['Temperature']].agg(['mean', 'sum'])\n",
    "print(result)"
   ]
  },
  {
   "cell_type": "code",
   "execution_count": 83,
   "id": "504b6090-c953-428e-ba9e-8477b2826e7d",
   "metadata": {},
   "outputs": [
    {
     "name": "stdout",
     "output_type": "stream",
     "text": [
      "      Name  Marks\n",
      "0    Alice   85.0\n",
      "1      Bob   87.5\n",
      "2  Charlie   90.0\n",
      "3    David   87.5\n"
     ]
    }
   ],
   "source": [
    "#13 Handle missing data in a DataFrame by replacing NaN values with the column mean\n",
    "\n",
    "import pandas as pd\n",
    "import numpy as np\n",
    "\n",
    "data = {\n",
    "    'Name': ['Vinay', 'Lalit', 'Venu', 'Nitin'],\n",
    "    'Marks': [85, np.nan, 90, np.nan]\n",
    "}\n",
    "df = pd.DataFrame(data)\n",
    "df.fillna(df['Marks'].mean(), inplace=True)\n",
    "\n",
    "print(df)"
   ]
  },
  {
   "cell_type": "code",
   "execution_count": 91,
   "id": "dbb6f9d7-6f00-41ab-b286-88d226b76dcf",
   "metadata": {},
   "outputs": [
    {
     "name": "stdout",
     "output_type": "stream",
     "text": [
      "Inner Join:\n",
      "    ID   Name  Marks\n",
      "0   2  Lalit     90\n",
      "1   3  Nitin     85\n",
      "Outer Join:\n",
      "    ID   Name  Marks\n",
      "0   1  Vinay    NaN\n",
      "1   2  Lalit   90.0\n",
      "2   3  Nitin   85.0\n",
      "3   4    NaN   95.0\n",
      "Left Join:\n",
      "    ID   Name  Marks\n",
      "0   1  Vinay    NaN\n",
      "1   2  Lalit   90.0\n",
      "2   3  Nitin   85.0\n",
      "Right Join:\n",
      "    ID   Name  Marks\n",
      "0   2  Lalit     90\n",
      "1   3  Nitin     85\n",
      "2   4    NaN     95\n"
     ]
    }
   ],
   "source": [
    "#14 Merge two DataFrames on a common key and perform an inner, outer, left, and right join\n",
    "\n",
    "students = pd.DataFrame({'ID': [1, 2, 3], 'Name': ['Vinay', 'Lalit', 'Nitin']})\n",
    "Marks = pd.DataFrame({'ID': [2, 3, 4], 'Marks': [90, 85, 95]})\n",
    "\n",
    "inner = pd.merge(students, Marks, on='ID', how='inner')\n",
    "outer = pd.merge(students, Marks, on='ID', how='outer')\n",
    "left = pd.merge(students, Marks, on='ID', how='left')\n",
    "right = pd.merge(students, Marks, on='ID', how='right')\n",
    "\n",
    "print(\"Inner Join:\\n\", inner)\n",
    "print(\"Outer Join:\\n\", outer)\n",
    "print(\"Left Join:\\n\", left)\n",
    "print(\"Right Join:\\n\", right)"
   ]
  },
  {
   "cell_type": "code",
   "execution_count": 95,
   "id": "bf7d05d1-5d9f-4426-bbde-04f9a9fc375b",
   "metadata": {},
   "outputs": [
    {
     "name": "stdout",
     "output_type": "stream",
     "text": [
      "   Marks\n",
      "0   85.0\n",
      "1   90.0\n",
      "2    NaN\n",
      "3   75.0\n"
     ]
    }
   ],
   "source": [
    "#15 Convert a column of object type into a float type and handle any errors that occur during conversion.\n",
    "\n",
    "df = pd.DataFrame({'Marks': ['85', '90', 'eighty', '75']})\n",
    "df['Marks'] = pd.to_numeric(df['Marks'], errors='coerce')\n",
    "print(df)"
   ]
  },
  {
   "cell_type": "code",
   "execution_count": 97,
   "id": "9b6fa8ba-9c80-46b6-b0d3-44a01cf425ed",
   "metadata": {},
   "outputs": [
    {
     "name": "stdout",
     "output_type": "stream",
     "text": [
      "  Name  Age\n",
      "1    B   25\n",
      "2    C   30\n"
     ]
    }
   ],
   "source": [
    "#16  Filter a DataFrame to select rows where a specific column's values fall within a given range.\n",
    "\n",
    "df = pd.DataFrame({'Name': ['A', 'B', 'C', 'D'], 'Age': [18, 25, 30, 40]})\n",
    "filtered = df[(df['Age'] >= 20) & (df['Age'] <= 35)]\n",
    "print(filtered)"
   ]
  },
  {
   "cell_type": "code",
   "execution_count": 99,
   "id": "9d049202-6642-4833-920f-e53aea6b926a",
   "metadata": {},
   "outputs": [
    {
     "name": "stdout",
     "output_type": "stream",
     "text": [
      "               mean     sum\n",
      "             Salary  Salary\n",
      "Department                 \n",
      "HR          51000.0  102000\n",
      "IT          60500.0  121000\n",
      "Non-IT      70000.0   70000\n"
     ]
    }
   ],
   "source": [
    "#17 Create a pivot table from a DataFrame and analyze the data based on multiple aggregations\n",
    "\n",
    "data = {\n",
    "    'Department': ['HR', 'IT', 'HR', 'IT', 'Non-IT'],\n",
    "    'Salary': [50000, 60000, 52000, 61000, 70000]\n",
    "}\n",
    "df = pd.DataFrame(data)\n",
    "pivot = pd.pivot_table(df, index='Department', values='Salary', aggfunc=['mean', 'sum'])\n",
    "print(pivot)"
   ]
  },
  {
   "cell_type": "code",
   "execution_count": 101,
   "id": "500364b2-6d32-4922-b4d6-1c818e796326",
   "metadata": {},
   "outputs": [
    {
     "name": "stdout",
     "output_type": "stream",
     "text": [
      "   Marks Grade\n",
      "0     60     B\n",
      "1     75     B\n",
      "2     90     A\n",
      "3     55     C\n"
     ]
    }
   ],
   "source": [
    "#18 Use the apply() function to apply a custom function to each element in a Pandas Series\n",
    "\n",
    "df = pd.DataFrame({'Marks': [60, 75, 90, 55]})\n",
    "def assign_grade(marks):\n",
    "    if marks >= 80:\n",
    "        return 'A'\n",
    "    elif marks >= 60:\n",
    "        return 'B'\n",
    "    else:\n",
    "        return 'C'\n",
    "        \n",
    "df['Grade'] = df['Marks'].apply(assign_grade)\n",
    "print(df)"
   ]
  },
  {
   "cell_type": "code",
   "execution_count": 103,
   "id": "9ffe4bfc-8918-4454-a953-ce462f9d3cd4",
   "metadata": {},
   "outputs": [
    {
     "name": "stdout",
     "output_type": "stream",
     "text": [
      "   Marks Category\n",
      "0     45      Low\n",
      "1     60      Low\n",
      "2     75   Medium\n",
      "3     90     High\n",
      "4    100     High\n"
     ]
    }
   ],
   "source": [
    "#19 Create a new column in a DataFrame that categorizes a numerical column into bins\n",
    "\n",
    "df = pd.DataFrame({'Marks': [45, 60, 75, 90, 100]})\n",
    "df['Category'] = pd.cut(df['Marks'], bins=[0, 60, 80, 100], labels=['Low', 'Medium', 'High'])\n",
    "print(df)"
   ]
  },
  {
   "cell_type": "code",
   "execution_count": 105,
   "id": "30c241aa-9fc9-4c75-8a9e-412fd6fc5349",
   "metadata": {},
   "outputs": [
    {
     "name": "stdout",
     "output_type": "stream",
     "text": [
      "  Gender\n",
      "0      M\n",
      "1      F\n",
      "2      M\n",
      "3      F\n"
     ]
    }
   ],
   "source": [
    "#20 Replace all instances of a specific value in a DataFrame column with another value\n",
    "\n",
    "df = pd.DataFrame({'Gender': ['Male', 'Female', 'Male', 'Female']})\n",
    "df['Gender'] = df['Gender'].replace({'Male': 'M', 'Female': 'F'})\n",
    "print(df)"
   ]
  },
  {
   "cell_type": "code",
   "execution_count": 107,
   "id": "c91c17bc-b678-4992-8336-73660f78856c",
   "metadata": {},
   "outputs": [
    {
     "name": "stdout",
     "output_type": "stream",
     "text": [
      "      Name   Age  Salary\n",
      "0    Vinay  21.0   50000\n",
      "1  Chandra  22.0   60000\n",
      "3     Venu  25.0   62000\n"
     ]
    }
   ],
   "source": [
    "### Data Cleaning & Preprocessing \n",
    "\n",
    "#21 Load a dataset with mixed data types and clean the data by removing or correcting any non numeric values\n",
    "\n",
    "import pandas as pd\n",
    "\n",
    "data = {\n",
    "    'Name': ['Vinay', 'Chandra', 'Lalit', 'Venu'],\n",
    "    'Age': ['21', '22', 'twenty-three', '25'],\n",
    "    'Salary': [50000, 60000, 55000, 62000]\n",
    "}\n",
    "df = pd.DataFrame(data)\n",
    "df['Age'] = pd.to_numeric(df['Age'], errors='coerce')\n",
    "df.dropna(subset=['Age'], inplace=True)\n",
    "print(df)"
   ]
  },
  {
   "cell_type": "code",
   "execution_count": 109,
   "id": "fbc0c9e6-d3c7-4ee8-84bb-f415ab3e0357",
   "metadata": {},
   "outputs": [
    {
     "name": "stdout",
     "output_type": "stream",
     "text": [
      "    Name  Age\n",
      "0  Lalit   20\n",
      "1  Vinay   21\n",
      "2  Nitin   23\n",
      "3   Venu   25\n"
     ]
    }
   ],
   "source": [
    "#22 Identify and remove duplicate rows from a DataFrame\n",
    "\n",
    "df = pd.DataFrame({\n",
    "    'Name': ['Lalit', 'Vinay', 'Nitin', 'Venu'],\n",
    "    'Age': [20, 21, 23, 25]\n",
    "})\n",
    "df = df.drop_duplicates()\n",
    "print(df)"
   ]
  },
  {
   "cell_type": "code",
   "execution_count": 115,
   "id": "b06d932a-6afb-4ea8-8ab3-06f742eb59f6",
   "metadata": {},
   "outputs": [
    {
     "name": "stdout",
     "output_type": "stream",
     "text": [
      "     Height    Weight\n",
      "0 -1.341641 -1.341641\n",
      "1 -0.447214 -0.447214\n",
      "2  0.447214  0.447214\n",
      "3  1.341641  1.341641\n"
     ]
    }
   ],
   "source": [
    "#23 Normalize a dataset using StandardScaler from scikit-learn and explain the difference between min-max scaling and standard scaling\n",
    "\n",
    "from sklearn.preprocessing import StandardScaler\n",
    "import pandas as pd\n",
    "\n",
    "df = pd.DataFrame({\n",
    "    'Height': [150, 160, 170, 180],\n",
    "    'Weight': [50, 60, 70, 80]\n",
    "})\n",
    "scaler = StandardScaler()\n",
    "scaled_data = scaler.fit_transform(df)\n",
    "scaled_df = pd.DataFrame(scaled_data, columns=['Height', 'Weight'])\n",
    "print(scaled_df)"
   ]
  },
  {
   "cell_type": "code",
   "execution_count": 119,
   "id": "8c5420d5-f23b-4c03-9a17-f0a8b3afbd8a",
   "metadata": {},
   "outputs": [
    {
     "name": "stdout",
     "output_type": "stream",
     "text": [
      "        City  City_Code\n",
      "0  Hyderabad          2\n",
      "1     Mumbai          3\n",
      "2    Chennai          0\n",
      "3      Delhi          1\n"
     ]
    }
   ],
   "source": [
    "#24 Convert a categorical column to numeric using label encoding and explain its impact on the dataset.\n",
    "\n",
    "from sklearn.preprocessing import LabelEncoder\n",
    "\n",
    "df = pd.DataFrame({'City': ['Hyderabad', 'Mumbai', 'Chennai', 'Delhi']})\n",
    "encoder = LabelEncoder()\n",
    "df['City_Code'] = encoder.fit_transform(df['City'])\n",
    "print(df)"
   ]
  },
  {
   "cell_type": "code",
   "execution_count": 121,
   "id": "73c79996-8f04-4a4e-84fe-d062997423b9",
   "metadata": {},
   "outputs": [
    {
     "name": "stdout",
     "output_type": "stream",
     "text": [
      "Training data:\n",
      "    Feature\n",
      "4       50\n",
      "2       30\n",
      "0       10\n",
      "3       40\n",
      "Testing data:\n",
      "    Feature\n",
      "1       20\n"
     ]
    }
   ],
   "source": [
    "#25 Split a dataset into training and testing sets using an 80-20 split and shuffle the data before splitting.\n",
    "\n",
    "from sklearn.model_selection import train_test_split\n",
    "import pandas as pd\n",
    "\n",
    "df = pd.DataFrame({\n",
    "    'Feature': [10, 20, 30, 40, 50],\n",
    "    'Target': [1, 0, 1, 0, 1]\n",
    "})\n",
    "X = df[['Feature']]\n",
    "y = df['Target']\n",
    "X_train, X_test, y_train, y_test = train_test_split(X, y, test_size=0.2, shuffle=True, random_state=42)\n",
    "print(\"Training data:\\n\", X_train)\n",
    "print(\"Testing data:\\n\", X_test)"
   ]
  },
  {
   "cell_type": "code",
   "execution_count": 123,
   "id": "2fb9ca0b-3268-4849-8e1e-ead1b1cddfa1",
   "metadata": {},
   "outputs": [
    {
     "name": "stdout",
     "output_type": "stream",
     "text": [
      "Mean:\n",
      " Math       86.6\n",
      "Science    85.8\n",
      "dtype: float64\n",
      "\n",
      "Median:\n",
      " Math       88.0\n",
      "Science    85.0\n",
      "dtype: float64\n",
      "\n",
      "Mode:\n",
      " Math       78\n",
      "Science    79\n",
      "Name: 0, dtype: int64\n",
      "\n",
      "Standard Deviation:\n",
      " Math       5.458938\n",
      "Science    6.760178\n",
      "dtype: float64\n"
     ]
    }
   ],
   "source": [
    "### Exploratory Data Analysis (EDA)\n",
    "\n",
    "#26 Perform an exploratory data analysis on a dataset by calculating summary statistics (mean, median, mode, standard deviation) for numerical columns. \n",
    "\n",
    "import pandas as pd\n",
    "\n",
    "data = {\n",
    "    'Math': [85, 90, 78, 92, 88],\n",
    "    'Science': [80, 85, 79, 95, 90]\n",
    "}\n",
    "df = pd.DataFrame(data)\n",
    "mean_values = df.mean()\n",
    "median_values = df.median()\n",
    "mode_values = df.mode().iloc[0]\n",
    "std_values = df.std()\n",
    "print(\"Mean:\\n\", mean_values)\n",
    "print(\"\\nMedian:\\n\", median_values)\n",
    "print(\"\\nMode:\\n\", mode_values)\n",
    "print(\"\\nStandard Deviation:\\n\", std_values)"
   ]
  },
  {
   "cell_type": "code",
   "execution_count": 125,
   "id": "63dcc71c-9428-4b49-b404-fa2332bd8c12",
   "metadata": {},
   "outputs": [
    {
     "data": {
      "image/png": "[encoded data removed]",
      "text/plain": [
       "<Figure size 800x400 with 1 Axes>"
      ]
     },
     "metadata": {},
     "output_type": "display_data"
    },
    {
     "data": {
      "image/png": "[encoded data removed]",
      "text/plain": [
       "<Figure size 800x400 with 1 Axes>"
      ]
     },
     "metadata": {},
     "output_type": "display_data"
    }
   ],
   "source": [
    "#27 Visualize the distribution of a numerical column using a histogram and a box plot. Identify and explain any outliers\n",
    "\n",
    "import matplotlib.pyplot as plt\n",
    "import seaborn as sns\n",
    "\n",
    "plt.figure(figsize=(8, 4))\n",
    "sns.histplot(df['Math'], bins=5, kde=True)\n",
    "plt.title('Histogram of Math Scores')\n",
    "plt.xlabel('Score')\n",
    "plt.ylabel('Frequency')\n",
    "plt.show()\n",
    "plt.figure(figsize=(8, 4))\n",
    "sns.boxplot(x=df['Math'])\n",
    "plt.title('Box Plot of Math Scores')\n",
    "plt.xlabel('Score')\n",
    "plt.show()"
   ]
  },
  {
   "cell_type": "code",
   "execution_count": 137,
   "id": "8d6e4081-5ce8-40d1-86c9-a0907ebf166a",
   "metadata": {},
   "outputs": [
    {
     "data": {
      "image/png": "[encoded data removed]",
      "text/plain": [
       "<Figure size 400x400 with 2 Axes>"
      ]
     },
     "metadata": {},
     "output_type": "display_data"
    }
   ],
   "source": [
    "#28 Create a correlation matrix of a DataFrame and visualize it using a heatmap. Interpret the results\n",
    "\n",
    "corr_matrix = df.corr()\n",
    "plt.figure(figsize=(4, 4))\n",
    "sns.heatmap(corr_matrix, annot=True, cmap='coolwarm')\n",
    "plt.title('Correlation Matrix')\n",
    "plt.show()"
   ]
  },
  {
   "cell_type": "code",
   "execution_count": 141,
   "id": "635b82af-9539-4872-b72f-e25418528698",
   "metadata": {},
   "outputs": [
    {
     "data": {
      "image/png": "[encoded data removed]",
      "text/plain": [
       "<Figure size 600x400 with 4 Axes>"
      ]
     },
     "metadata": {},
     "output_type": "display_data"
    }
   ],
   "source": [
    "#29 Use Pandas to create a scatter plot matrix of multiple columns in a dataset and analyze the relationships between them\n",
    "\n",
    "from pandas.plotting import scatter_matrix\n",
    "\n",
    "scatter_matrix(df, figsize=(6, 4), diagonal='kde')\n",
    "plt.suptitle('Scatter Plot Matrix')\n",
    "plt.show()"
   ]
  },
  {
   "cell_type": "code",
   "execution_count": 145,
   "id": "29cde4db-d6cd-4e0e-bd5d-f4712dfc65c3",
   "metadata": {},
   "outputs": [
    {
     "data": {
      "image/png": "[encoded data removed]",
      "text/plain": [
       "<Figure size 400x200 with 1 Axes>"
      ]
     },
     "metadata": {},
     "output_type": "display_data"
    }
   ],
   "source": [
    "#30 Perform feature engineering on a dataset by creating new features and then visualize their importance using a bar chart.\n",
    "\n",
    "from sklearn.ensemble import RandomForestClassifier\n",
    "from sklearn.preprocessing import LabelEncoder\n",
    "\n",
    "data = {\n",
    "    'Math': [85, 90, 78, 92, 88],\n",
    "    'Science': [80, 85, 79, 95, 90],\n",
    "    'Passed': ['Yes', 'Yes', 'No', 'Yes', 'Yes']\n",
    "}\n",
    "df = pd.DataFrame(data)\n",
    "le = LabelEncoder()\n",
    "df['Passed'] = le.fit_transform(df['Passed'])\n",
    "X = df[['Math', 'Science']]\n",
    "y = df['Passed']\n",
    "model = RandomForestClassifier()\n",
    "model.fit(X, y)\n",
    "importances = model.feature_importances_\n",
    "feature_names = X.columns\n",
    "plt.figure(figsize=(4, 2))\n",
    "sns.barplot(x=importances, y=feature_names)\n",
    "plt.title('Feature Importance')\n",
    "plt.xlabel('Importance')\n",
    "plt.ylabel('Feature')\n",
    "plt.show()"
   ]
  },
  {
   "cell_type": "code",
   "execution_count": null,
   "id": "2c94bdcf-9717-4d6f-9399-1f7647cd87b1",
   "metadata": {},
   "outputs": [],
   "source": []
  }
 ],
 "metadata": {
  "kernelspec": {
   "display_name": "Python 3 (ipykernel)",
   "language": "python",
   "name": "python3"
  },
  "language_info": {
   "codemirror_mode": {
    "name": "ipython",
    "version": 3
   },
   "file_extension": ".py",
   "mimetype": "text/x-python",
   "name": "python",
   "nbconvert_exporter": "python",
   "pygments_lexer": "ipython3",
   "version": "3.12.4"
  }
 },
 "nbformat": 4,
 "nbformat_minor": 5
}
